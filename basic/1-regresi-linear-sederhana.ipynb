{
 "cells": [
  {
   "cell_type": "markdown",
   "id": "9d9d0c89",
   "metadata": {},
   "source": [
    "## Regresi Linear sederhana\n",
    "\n",
    "Regresi Linear (Linear Regresion) adalah sebuah metode yang biasa digunakan untuk memprediksi nilai tertentu yang bersifat kontinu (berkelanjutan).\n",
    "\n",
    "Misalkan, bisakah kita menghitung berapa nilai suhu `???` dibawah?\n",
    "\n",
    "```\n",
    "Celsius | Fahrenheit\n",
    "--------|-----------\n",
    "0       | 32\n",
    "1       | 33.8\n",
    "2       | 35.6\n",
    "3       | 37.4\n",
    "4       | 39.2\n",
    "5       | ???\n",
    "```\n",
    "\n",
    "Tentu saja! karena kita tahu data di atas adalah data konversi dari Celcius ke Fahrenheit, maka untuk menghitung nilai `???` kita tinggal cari rumus konversi suhu dari Celcius ke Fahrenheit, yaitu:\n",
    "\n",
    "```\n",
    "°F = (°C × 9/5) + 32\n",
    "```\n",
    "\n",
    "Tetapi apabila kita diberikan data dibawah:\n",
    "```\n",
    "0       | 32\n",
    "1       | 33.8\n",
    "2       | 35.6\n",
    "3       | 37.4\n",
    "4       | 39.2\n",
    "5       | ???\n",
    "```\n",
    "\n",
    "Nama dari masing-masing kolom tidak diketahui, dan kita diminta untuk memprediksi nilai `???`. Dalam kasus diatas tetap saja mudah karena kolom pertama mempunyai nilai berurutan maka untuk mengetahui `???` cukup dengan logika dan operasi matematika sederhana.\n",
    "\n",
    "Namun kita juga bisa menggunakan Regresi Linear untuk memecahkan masalah diatas, meskipun sepertinya \"overkill\" (terlalu berlebihan) menggunakan deep learning hanya untuk memecahkan persoalan sederhana seperti itu, tetapi ini merupakan kasus sempurna untuk mempraktekkan bagaimana cara membuat model Regresi Linear dengan PyTorch yang bisa kita aplikasikan ke data yang lebih kompleks."
   ]
  },
  {
   "cell_type": "markdown",
   "id": "cdaa9538",
   "metadata": {},
   "source": [
    "### Import library yang diperlukan"
   ]
  },
  {
   "cell_type": "code",
   "execution_count": 1,
   "id": "b90f2399",
   "metadata": {},
   "outputs": [],
   "source": [
    "# import library yang dibutuhkan\n",
    "import torch\n",
    "import torch.nn as nn\n",
    "import matplotlib.pyplot as plt\n",
    "from sklearn.model_selection import train_test_split\n",
    "\n",
    "%matplotlib inline"
   ]
  },
  {
   "cell_type": "markdown",
   "id": "e05993c5",
   "metadata": {},
   "source": [
    "### Membuat dataset"
   ]
  },
  {
   "cell_type": "code",
   "execution_count": 2,
   "id": "b162d967",
   "metadata": {},
   "outputs": [],
   "source": [
    "# buat dataset dengan satu fitur dan satu label\n",
    "# fitur --> suhu Celsius dari -100 sampai 100\n",
    "# label --> suhu Fahrenheit berdasarkan suhu Celcius diatas dengan rumus: °F = (°C × 9/5) + 32\n",
    "\n",
    "# kita buat suhunya bertipe: float32\n",
    "celcius = torch.arange(-100, 100, 1).type(torch.float).unsqueeze(dim=1)\n",
    "fahrenheit = (celcius * 1.8) + 32"
   ]
  },
  {
   "cell_type": "code",
   "execution_count": 3,
   "id": "24fcce8a",
   "metadata": {},
   "outputs": [
    {
     "data": {
      "text/plain": [
       "(tensor([[-100.],\n",
       "         [ -99.],\n",
       "         [ -98.],\n",
       "         [ -97.],\n",
       "         [ -96.]]),\n",
       " 200)"
      ]
     },
     "execution_count": 3,
     "metadata": {},
     "output_type": "execute_result"
    }
   ],
   "source": [
    "# tampilkan 10 suhu Celcius pertama dan total suhu yang dibuat\n",
    "celcius[:5], len(celcius)"
   ]
  },
  {
   "cell_type": "code",
   "execution_count": 4,
   "id": "b16f8f79",
   "metadata": {},
   "outputs": [
    {
     "data": {
      "text/plain": [
       "(tensor([[-148.0000],\n",
       "         [-146.2000],\n",
       "         [-144.4000],\n",
       "         [-142.6000],\n",
       "         [-140.8000]]),\n",
       " 200)"
      ]
     },
     "execution_count": 4,
     "metadata": {},
     "output_type": "execute_result"
    }
   ],
   "source": [
    "# tampilkan 10 suhu Fahrenheit pertama dan total suhu yang dibuat\n",
    "fahrenheit[:5], len(fahrenheit)"
   ]
  },
  {
   "cell_type": "code",
   "execution_count": 5,
   "id": "693c9146",
   "metadata": {},
   "outputs": [
    {
     "data": {
      "text/plain": [
       "Text(0, 0.5, 'Fahrenheit')"
      ]
     },
     "execution_count": 5,
     "metadata": {},
     "output_type": "execute_result"
    },
    {
     "data": {
      "image/png": "[encoded data removed]",
      "text/plain": [
       "<Figure size 640x480 with 1 Axes>"
      ]
     },
     "metadata": {},
     "output_type": "display_data"
    }
   ],
   "source": [
    "# plot relasi linear antara Celcius and Fahrenheit\n",
    "plt.plot(celcius, fahrenheit)\n",
    "plt.xlabel(\"Celcius\")\n",
    "plt.ylabel(\"Fahrenheit\")"
   ]
  },
  {
   "cell_type": "markdown",
   "id": "8ca407db",
   "metadata": {},
   "source": [
    "### Bagi dataset menjadi dua, Training dan Test\n",
    "\n",
    "Kita akan membagi dataset suhu diatas (fitur dan label) masing-masing menjadi dua `80%` dan `20%` sehingga menjadi:\n",
    "\n",
    "- 80% fitur training (`X_train`)\n",
    "- 20% fitur test (`X_test`)\n",
    "- 80% label training (`y_train`)\n",
    "- 20% label test (`y_test`)"
   ]
  },
  {
   "cell_type": "code",
   "execution_count": 6,
   "id": "1133eb0d",
   "metadata": {},
   "outputs": [],
   "source": [
    "# kita gunakan fungsi: train_test_split() dari sklearn untuk mempermudah proses ini.\n",
    "X_train, X_test, y_train, y_test = train_test_split(celcius, fahrenheit, test_size=0.2, random_state=42)"
   ]
  },
  {
   "cell_type": "code",
   "execution_count": 7,
   "id": "87c3f874",
   "metadata": {},
   "outputs": [
    {
     "data": {
      "text/plain": [
       "tensor([[-21.],\n",
       "        [ 97.],\n",
       "        [-62.],\n",
       "        [-76.],\n",
       "        [ 22.],\n",
       "        [ 95.],\n",
       "        [-71.],\n",
       "        [-81.],\n",
       "        [ 43.],\n",
       "        [-14.]])"
      ]
     },
     "execution_count": 7,
     "metadata": {},
     "output_type": "execute_result"
    }
   ],
   "source": [
    "# fungsi train_test_split() juga mengacak data kita\n",
    "X_train[:10]"
   ]
  },
  {
   "cell_type": "markdown",
   "id": "88da4688",
   "metadata": {},
   "source": [
    "### Membuat Model dengan PyTorch"
   ]
  },
  {
   "cell_type": "code",
   "execution_count": 8,
   "id": "ead667d9",
   "metadata": {},
   "outputs": [],
   "source": [
    "# kita buat class-based PyTorch model sederhana:\n",
    "# hanya punya satu layer Linear dengan 1 input dan 1 output\n",
    "# artinya: 1 input Celcius dan berusaha memprediksi 1 output Fahrenheit\n",
    "\n",
    "class Model(nn.Module):\n",
    "    \"\"\"\n",
    "    Sebenarnya untuk soal sederhana seperti ini kita tidak perlu membuat model\n",
    "    dengan class, cukup dengan:\n",
    "    \n",
    "    ```\n",
    "    model = nn.Linear(in_features=1, out_features=1)\n",
    "    ```\n",
    "    \n",
    "    **ini hanya untuk membiasakan diri dengan class based model**\n",
    "    \"\"\"\n",
    "    def __init__(self):\n",
    "        super().__init__()\n",
    "        \n",
    "        # model dengan satu linear layer\n",
    "        self.layer1 = nn.Linear(in_features=1, out_features=1)\n",
    "        \n",
    "    def forward(self, x):\n",
    "        return self.layer1(x)"
   ]
  },
  {
   "cell_type": "code",
   "execution_count": 9,
   "id": "2464ccdd",
   "metadata": {},
   "outputs": [
    {
     "name": "stdout",
     "output_type": "stream",
     "text": [
      "epoch=491, loss=0.19739475846290588\n",
      "epoch=492, loss=0.20260150730609894\n",
      "epoch=493, loss=0.19677555561065674\n",
      "epoch=494, loss=0.20199385285377502\n",
      "epoch=495, loss=0.1961711049079895\n",
      "epoch=496, loss=0.20139411091804504\n",
      "epoch=497, loss=0.19557277858257294\n",
      "epoch=498, loss=0.20080681145191193\n",
      "epoch=499, loss=0.1949874311685562\n",
      "epoch=500, loss=0.20022618770599365\n"
     ]
    }
   ],
   "source": [
    "# -- Buat model, loss function dan optimizer\n",
    "torch.manual_seed(42)\n",
    "\n",
    "# inisiasi model\n",
    "model = Model()\n",
    "\n",
    "# Loss function dan Optimizer\n",
    "loss_fn = nn.L1Loss() # MAE (Mean Absolute Error)\n",
    "optim = torch.optim.Adam(model.parameters(), lr=0.1) # Adam dengan learning rate=0.1\n",
    "\n",
    "# Buat training loop\n",
    "epochs = 500 # training 500x\n",
    "losses = []  # untuk memvisualisasikan loss\n",
    "\n",
    "# -- Training loop\n",
    "for i in range(epochs):\n",
    "    model.train() # set train mode\n",
    "    \n",
    "    y_pred = model(X_train)\n",
    "    loss = loss_fn(y_pred, y_train)\n",
    "    \n",
    "    losses.append(loss.item())\n",
    "    \n",
    "    # kita hanya akan print 10 loss terakhir\n",
    "    if i >= 490:\n",
    "        print(f\"epoch={i+1}, loss={loss.item()}\")\n",
    "    \n",
    "    # backward propagation\n",
    "    optim.zero_grad()\n",
    "    loss.backward()\n",
    "    optim.step()"
   ]
  },
  {
   "cell_type": "code",
   "execution_count": 10,
   "id": "8ff4bce7",
   "metadata": {},
   "outputs": [
    {
     "data": {
      "text/plain": [
       "Text(0, 0.5, 'loss')"
      ]
     },
     "execution_count": 10,
     "metadata": {},
     "output_type": "execute_result"
    },
    {
     "data": {
      "image/png": "[encoded data removed]",
      "text/plain": [
       "<Figure size 640x480 with 1 Axes>"
      ]
     },
     "metadata": {},
     "output_type": "display_data"
    }
   ],
   "source": [
    "# Visualisasikan loss\n",
    "plt.plot(range(epochs), losses)\n",
    "plt.xlabel(\"epoch\")\n",
    "plt.ylabel(\"loss\")"
   ]
  },
  {
   "cell_type": "markdown",
   "id": "d16c6d8b",
   "metadata": {},
   "source": [
    "Pada plot diatas, **training ke 300 sampai 500 nilai loss sudah paling rendah dan stabil** jadi kita bisa pakai jumlah epochs di antara nilai tersebut."
   ]
  },
  {
   "cell_type": "code",
   "execution_count": 11,
   "id": "b4b24750",
   "metadata": {},
   "outputs": [
    {
     "name": "stdout",
     "output_type": "stream",
     "text": [
      "Loss pada test data: 0.17115922272205353\n"
     ]
    }
   ],
   "source": [
    "# Hitung loss pada test data\n",
    "model.eval()\n",
    "\n",
    "with torch.inference_mode():\n",
    "    y_pred = model(X_test)\n",
    "    loss = loss_fn(y_pred, y_test)\n",
    "    \n",
    "    print(f\"Loss pada test data: {loss.item()}\")"
   ]
  },
  {
   "cell_type": "markdown",
   "id": "3bda59ba",
   "metadata": {},
   "source": [
    "👍 Tenyata lossnya cukup bagus **0.17**, artinya apabila kita memprediksi suhu Fahrenheit dari Celcius ada kemungkinan kesalahan 0.17 derajat, **cukup akurat**.\n",
    "\n",
    "Sekarang mari kita gunakan model untuk memprediksi suhu: "
   ]
  },
  {
   "cell_type": "code",
   "execution_count": 12,
   "id": "f4dc5776",
   "metadata": {},
   "outputs": [
    {
     "name": "stdout",
     "output_type": "stream",
     "text": [
      "C=0, F=31.999980926513672\n",
      "C=10, F=49.96202850341797\n",
      "C=15, F=58.94305419921875\n",
      "C=30, F=85.88612365722656\n",
      "C=100, F=211.62046813964844\n"
     ]
    }
   ],
   "source": [
    "with torch.inference_mode():\n",
    "    print(f\"C=0, F={model(torch.FloatTensor([0])).item()}\")\n",
    "    print(f\"C=10, F={model(torch.FloatTensor([10])).item()}\")\n",
    "    print(f\"C=15, F={model(torch.FloatTensor([15])).item()}\")\n",
    "    print(f\"C=30, F={model(torch.FloatTensor([30])).item()}\")\n",
    "    print(f\"C=100, F={model(torch.FloatTensor([100])).item()}\")"
   ]
  },
  {
   "cell_type": "markdown",
   "id": "42c734eb",
   "metadata": {},
   "source": [
    "Bandingkan dengan hasil yang menggunakan formula `°F = (°C × 9/5) + 32`:\n",
    "\n",
    "```\n",
    "Celsius | Fahrenheit (formula) | Fahrenheit (prediksi model)\n",
    "--------|----------------------|----------------------------\n",
    "0       | 32                   | 31.99\n",
    "10      | 50                   | 49.96\n",
    "15      | 59                   | 58.94\n",
    "30      | 86                   | 85.88\n",
    "100     | 212                  | 211.62\n",
    "```"
   ]
  },
  {
   "cell_type": "markdown",
   "id": "a9f61280",
   "metadata": {},
   "source": [
    "**Hasilnya cukup akurat!**\n",
    "\n",
    "Tentu saja untuk kasus diatas tidak perlu menggunakan Deep Learning karena kita sudah tahu formula sebenarnya. ML secara umum berfungsi untuk mencari formula/hubungan/relasi antara input dan output sehingga bisa digunakan untuk memprediksi value baru di masa depan."
   ]
  }
 ],
 "metadata": {
  "kernelspec": {
   "display_name": "Python 3 (ipykernel)",
   "language": "python",
   "name": "python3"
  },
  "language_info": {
   "codemirror_mode": {
    "name": "ipython",
    "version": 3
   },
   "file_extension": ".py",
   "mimetype": "text/x-python",
   "name": "python",
   "nbconvert_exporter": "python",
   "pygments_lexer": "ipython3",
   "version": "3.10.10"
  }
 },
 "nbformat": 4,
 "nbformat_minor": 5
}
